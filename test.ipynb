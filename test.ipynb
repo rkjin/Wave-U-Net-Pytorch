{
 "cells": [
  {
   "cell_type": "code",
   "execution_count": 1,
   "metadata": {},
   "outputs": [],
   "source": [
    "from tqdm import tqdm\n",
    "from time import sleep\n"
   ]
  },
  {
   "cell_type": "code",
   "execution_count": 7,
   "metadata": {},
   "outputs": [
    {
     "name": "stderr",
     "output_type": "stream",
     "text": [
      "100%|██████████| 100/100 [00:05<00:00, 19.93it/s]\n"
     ]
    }
   ],
   "source": [
    "with tqdm(total=100) as pbar:\n",
    "    for i in range(10):\n",
    "        sleep(0.5)\n",
    "        pbar.update(10)"
   ]
  },
  {
   "cell_type": "code",
   "execution_count": 8,
   "metadata": {},
   "outputs": [
    {
     "name": "stderr",
     "output_type": "stream",
     "text": [
      "100%|██████████| 100/100 [00:01<00:00, 98.79it/s]\n"
     ]
    }
   ],
   "source": [
    "pbar = tqdm(total=100)\n",
    "for i in range(10):\n",
    "    sleep(0.1)\n",
    "    pbar.update(10)\n",
    "pbar.close()"
   ]
  },
  {
   "cell_type": "code",
   "execution_count": 18,
   "metadata": {},
   "outputs": [
    {
     "ename": "NameError",
     "evalue": "name 'logdir' is not defined",
     "output_type": "error",
     "traceback": [
      "\u001b[0;31m---------------------------------------------------------------------------\u001b[0m",
      "\u001b[0;31mNameError\u001b[0m                                 Traceback (most recent call last)",
      "\u001b[1;32m/home/bj/data/dnn/cfnet_venv/Wave-U-Net-Pytorch/test.ipynb Cell 4'\u001b[0m in \u001b[0;36m<module>\u001b[0;34m\u001b[0m\n\u001b[1;32m      <a href='vscode-notebook-cell:/home/bj/data/dnn/cfnet_venv/Wave-U-Net-Pytorch/test.ipynb#ch0000003?line=0'>1</a>\u001b[0m \u001b[39mimport\u001b[39;00m \u001b[39mtensorboardX\u001b[39;00m \u001b[39mas\u001b[39;00m \u001b[39mtx\u001b[39;00m\n\u001b[0;32m----> <a href='vscode-notebook-cell:/home/bj/data/dnn/cfnet_venv/Wave-U-Net-Pytorch/test.ipynb#ch0000003?line=1'>2</a>\u001b[0m tx \u001b[39m-\u001b[39m\u001b[39m-\u001b[39mlogdir \u001b[39m/\u001b[39mhome\u001b[39m/\u001b[39mbj\u001b[39m/\u001b[39mdata\u001b[39m/\u001b[39mdnn\u001b[39m/\u001b[39mcfnet_venv\u001b[39m/\u001b[39mWave\u001b[39m-\u001b[39mU\u001b[39m-\u001b[39mNet\u001b[39m-\u001b[39mPytorch\u001b[39m/\u001b[39mlogs\u001b[39m/\u001b[39mwaveunet\n",
      "\u001b[0;31mNameError\u001b[0m: name 'logdir' is not defined"
     ]
    }
   ],
   "source": [
    " \n",
    "tensorboard --logdir /home/bj/data/dnn/cfnet_venv/Wave-U-Net-Pytorch/logs/waveunet"
   ]
  },
  {
   "cell_type": "code",
   "execution_count": 3,
   "metadata": {},
   "outputs": [
    {
     "data": {
      "text/plain": [
       "array([1.9897749 , 3.95969322, 2.41954068, 2.28468753, 4.12756583,\n",
       "       3.49987049, 3.6202154 , 1.12590794, 3.41110954, 2.21334866])"
      ]
     },
     "execution_count": 3,
     "metadata": {},
     "output_type": "execute_result"
    }
   ],
   "source": [
    "import numpy as np\n",
    "np.random.uniform(1,5,10)"
   ]
  },
  {
   "cell_type": "code",
   "execution_count": 8,
   "metadata": {},
   "outputs": [
    {
     "name": "stdout",
     "output_type": "stream",
     "text": [
      "SortedList(['a', 'c', 'd', 'e', 'k'])\n",
      "SortedList(['a', 'a', 'a', 'a', 'a', 'a', 'a', 'a', 'a', 'a', 'c', 'c', 'c', 'c', 'c', 'c', 'c', 'c', 'c', 'c', 'd', 'd', 'd', 'd', 'd', 'd', 'd', 'd', 'd', 'd', 'e', 'e', 'e', 'e', 'e', 'e', 'e', 'e', 'e', 'e', 'k', 'k', 'k', 'k', 'k', 'k', 'k', 'k', 'k', 'k'])\n"
     ]
    },
    {
     "data": {
      "text/plain": [
       "10"
      ]
     },
     "execution_count": 8,
     "metadata": {},
     "output_type": "execute_result"
    }
   ],
   "source": [
    "from sortedcontainers import SortedList\n",
    "sl = SortedList(['a','c','e','d','k'])\n",
    "print(sl)\n",
    "sl *= 10 \n",
    "print(sl)\n",
    "sl.count('c')\n"
   ]
  },
  {
   "cell_type": "code",
   "execution_count": null,
   "metadata": {},
   "outputs": [],
   "source": []
  }
 ],
 "metadata": {
  "interpreter": {
   "hash": "f8b245196578ab60b61e543640d320aa047218d8e06c6b0318c56bb35d0b3b3d"
  },
  "kernelspec": {
   "display_name": "Python 3.8.10 ('cfnet_venv')",
   "language": "python",
   "name": "python3"
  },
  "language_info": {
   "codemirror_mode": {
    "name": "ipython",
    "version": 3
   },
   "file_extension": ".py",
   "mimetype": "text/x-python",
   "name": "python",
   "nbconvert_exporter": "python",
   "pygments_lexer": "ipython3",
   "version": "3.8.10"
  },
  "orig_nbformat": 4
 },
 "nbformat": 4,
 "nbformat_minor": 2
}
